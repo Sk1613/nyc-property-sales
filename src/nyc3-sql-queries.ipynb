{
 "cells": [
  {
   "cell_type": "markdown",
   "id": "9ec7fd43-70a9-4442-94ac-877b010d326a",
   "metadata": {},
   "source": [
    "### SQL Tasks\n",
    "\n",
    "This notebook contains sql query tasks.\n",
    "\n",
    "**a.** A column to be called “sale_price_zscore” that represents, for each sale/row, the Z-Score of “SALE_PRICE” of that row as normalized against the entirety of the dataset"
   ]
  },
  {
   "cell_type": "markdown",
   "id": "ce20a5f8-aa34-4d22-9443-93aca835924f",
   "metadata": {},
   "source": [
    "![](z-score.png)"
   ]
  },
  {
   "cell_type": "markdown",
   "id": "ea26b594-0424-4b1f-baaf-7faa11d29e5d",
   "metadata": {},
   "source": [
    "\n",
    "Z = Z-Score\n",
    "X = Actual value\n",
    "μ = Mean value\n",
    "σ = Standard Deviation"
   ]
  },
  {
   "cell_type": "code",
   "execution_count": null,
   "id": "97c8b183-6a5d-4252-943a-c76869053a0f",
   "metadata": {},
   "outputs": [],
   "source": [
    "UPDATE nyc_sales_table\n",
    "SET sale_price_zscore = \n",
    "(\n",
    "    SELECT (SALE_PRICE - AVG(SALE_PRICE) OVER ()) / (STDEV(SALE_PRICE) OVER ()) as sale_price_zscore\n",
    "    FROM nyc_sales_table\n",
    ");"
   ]
  },
  {
   "cell_type": "markdown",
   "id": "6b9a75fb-f9e6-4b68-9697-c02c315b9a78",
   "metadata": {},
   "source": [
    "**b.** A column to be called “sale_price_zscore_neighborhood” that represents, for each sale/row, the Z-Score of “SALE_PRICE” but as normalized based on the NEIGHBORHOOD and BUILDING_CLASS segment to which that row belongs"
   ]
  },
  {
   "cell_type": "code",
   "execution_count": null,
   "id": "81e95d73-b8d7-49e1-8b45-7dd2f5183b84",
   "metadata": {},
   "outputs": [],
   "source": [
    "UPDATE nyc_sales_table\n",
    "SET sale_price_zscore_neighborhood = \n",
    "(\n",
    "    SELECT BY NEIGHBORHOOD, BUILDING_CLASS,(SALE_PRICE - AVG(SALE_PRICE) OVER ()) / (STDEV(SALE_PRICE) OVER ()) as sale_price_zscore_neighborhood\n",
    "    FROM nyc_sales_table\n",
    "    GROUP BY NEIGHBORHOOD, BUILDING_CLASS\n",
    ");"
   ]
  },
  {
   "cell_type": "markdown",
   "id": "c4cc11f6-536f-47ee-9e34-be3bc20cb3f8",
   "metadata": {},
   "source": [
    "**c.** Columns that compute “square_ft_per_unit” and “price_per_unit”"
   ]
  },
  {
   "cell_type": "code",
   "execution_count": null,
   "id": "20c7b165-0ba8-4c9c-af1a-c7fef7727f90",
   "metadata": {},
   "outputs": [],
   "source": [
    "UPDATE nyc_sales_table\n",
    "SET price_per_unit = \n",
    "(\n",
    "    SELECT\n",
    "      UNIT,\n",
    "      AVG(SALE_PRICE) AS average_revenue_per_sale\n",
    "    FROM nyc_sales_table\n",
    "    GROUP BY UNIT;\n",
    ");\n",
    "\n",
    "UPDATE nyc_sales_table\n",
    "SET square_ft_per_unit = \n",
    "(\n",
    "    SELECT\n",
    "      SQUARE_FT,\n",
    "      AVG(SALE_PRICE) AS square_ft_per_unit\n",
    "    FROM nyc_sales_table\n",
    "    GROUP BY SQUARE_FT;\n",
    ");"
   ]
  }
 ],
 "metadata": {
  "kernelspec": {
   "display_name": "Python 3 (ipykernel)",
   "language": "python",
   "name": "python3"
  },
  "language_info": {
   "codemirror_mode": {
    "name": "ipython",
    "version": 3
   },
   "file_extension": ".py",
   "mimetype": "text/x-python",
   "name": "python",
   "nbconvert_exporter": "python",
   "pygments_lexer": "ipython3",
   "version": "3.8.13"
  }
 },
 "nbformat": 4,
 "nbformat_minor": 5
}
