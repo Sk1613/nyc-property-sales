{
 "cells": [
  {
   "cell_type": "markdown",
   "metadata": {
    "tags": []
   },
   "source": [
    "## NYC Sales Model\n",
    "\n",
    "**Aim:** To estimate the sales price with different information such as the age of the building, size and location.\n",
    "\n",
    "   - For this purpose, I will clear the data.\n",
    "   - Then I will make the data ready for the model with preprocessing steps. \n",
    "   - In order to understand whether this data can solve this problem, I will set up a base model with MVP quality.\n",
    "   - And the results will guide the next development steps.\n",
    "   \n",
    "If the comments are not enough, the reason may have been explained in the previous EDA notebook, check it out.  Or feel free to contact me to reveal blind spots. Or feel free to contact me (*sengulkaraderili@gmail.com*) to reveal blind spots."
   ]
  },
  {
   "cell_type": "markdown",
   "metadata": {
    "tags": []
   },
   "source": [
    "### Import Libraries"
   ]
  },
  {
   "cell_type": "code",
   "execution_count": 1,
   "metadata": {
    "tags": []
   },
   "outputs": [
    {
     "name": "stderr",
     "output_type": "stream",
     "text": [
      "/Users/skaraderili/miniconda3/envs/nyc_sales/lib/python3.8/site-packages/tqdm/auto.py:22: TqdmWarning: IProgress not found. Please update jupyter and ipywidgets. See https://ipywidgets.readthedocs.io/en/stable/user_install.html\n",
      "  from .autonotebook import tqdm as notebook_tqdm\n"
     ]
    }
   ],
   "source": [
    "import numpy as np\n",
    "import pandas as pd\n",
    "import matplotlib.pyplot as plt\n",
    "%matplotlib inline\n",
    "\n",
    "\n",
    "from sklearn.ensemble import RandomForestRegressor\n",
    "from sklearn.ensemble import GradientBoostingRegressor\n",
    "import xgboost as xg\n",
    "\n",
    "from sklearn.model_selection import train_test_split\n",
    "from sklearn.metrics import mean_squared_error,r2_score, mean_absolute_error\n",
    "from sklearn.preprocessing import StandardScaler\n",
    "from sklearn.model_selection import GridSearchCV\n",
    "\n",
    "import shap\n",
    "import seaborn as sns\n",
    "\n",
    "import warnings\n",
    "warnings.filterwarnings('ignore')"
   ]
  },
  {
   "cell_type": "code",
   "execution_count": 2,
   "metadata": {
    "tags": []
   },
   "outputs": [],
   "source": [
    "# Read data with nan values reperesented as ' -  ', dont convert again.\n",
    "file_path = \"nyc-rolling-sales.csv\"\n",
    "df = pd.read_csv(file_path, na_values=' -  ')"
   ]
  },
  {
   "cell_type": "markdown",
   "metadata": {
    "tags": []
   },
   "source": [
    "### Feature engineering and cleaning\n"
   ]
  },
  {
   "cell_type": "markdown",
   "metadata": {},
   "source": [
    "#### Convert data types"
   ]
  },
  {
   "cell_type": "code",
   "execution_count": 3,
   "metadata": {
    "tags": []
   },
   "outputs": [],
   "source": [
    "# Specifying date variable and correcting its type\n",
    "df['SALE DATE'] = pd.to_datetime(df['SALE DATE'], errors='coerce') \n",
    "# df[\"dayofweek\"] = df['SALE DATE'].dt.dayofweek\n",
    "df['TAX CLASS AT TIME OF SALE'] = df['TAX CLASS AT TIME OF SALE'].astype(object)"
   ]
  },
  {
   "cell_type": "code",
   "execution_count": 4,
   "metadata": {
    "tags": []
   },
   "outputs": [],
   "source": [
    "# Specifying numeric variables and correcting their types\n",
    "numeric = [\"RESIDENTIAL UNITS\",\"COMMERCIAL UNITS\",\"TOTAL UNITS\", \"LAND SQUARE FEET\" ,\n",
    "           \"GROSS SQUARE FEET\",\"SALE PRICE\" ]\n",
    "for col in numeric: \n",
    "    df[col] = pd.to_numeric(df[col], errors='coerce')"
   ]
  },
  {
   "cell_type": "code",
   "execution_count": 5,
   "metadata": {
    "tags": []
   },
   "outputs": [],
   "source": [
    "# Specifying categorical variables and correcting their types\n",
    "categorical = [\"BOROUGH\",\"NEIGHBORHOOD\",'BUILDING CLASS CATEGORY', 'TAX CLASS AT PRESENT',\n",
    "               'BUILDING CLASS AT PRESENT','ZIP CODE', 'BUILDING CLASS AT TIME OF SALE', 'TAX CLASS AT TIME OF SALE']\n",
    "for col in categorical: \n",
    "    df[col] = df[col].astype(object)"
   ]
  },
  {
   "cell_type": "markdown",
   "metadata": {},
   "source": [
    "#### Impute missing values\n",
    "\n",
    "We will fill in our missing data with the median values of the borough categories. Thus, the differences between the categories will not be ignored."
   ]
  },
  {
   "cell_type": "code",
   "execution_count": 6,
   "metadata": {
    "tags": []
   },
   "outputs": [],
   "source": [
    "df.replace(' ',np.nan, inplace=True)"
   ]
  },
  {
   "cell_type": "code",
   "execution_count": 7,
   "metadata": {
    "tags": []
   },
   "outputs": [],
   "source": [
    "# Imputing missing values of theese columns.\n",
    "df['GROSS SQUARE FEET']=df.groupby('BOROUGH')['GROSS SQUARE FEET'].apply(lambda x:x.fillna(x.median()))\n",
    "df['LAND SQUARE FEET']=df.groupby('BOROUGH')['LAND SQUARE FEET'].apply(lambda x:x.fillna(x.median()))"
   ]
  },
  {
   "cell_type": "code",
   "execution_count": 8,
   "metadata": {
    "tags": []
   },
   "outputs": [],
   "source": [
    "df = df[df[\"SALE PRICE\"] > 0]  # Deleting 0 price transfer transactions \n",
    "df = df[df[\"SALE PRICE\"].notnull()] # Deleting nan values of dependence variable"
   ]
  },
  {
   "cell_type": "markdown",
   "metadata": {},
   "source": [
    "#### Cleaning: Drop and filter columns\n"
   ]
  },
  {
   "cell_type": "code",
   "execution_count": 9,
   "metadata": {
    "tags": []
   },
   "outputs": [],
   "source": [
    "del df[\"ADDRESS\"] # The variable 1 not required for the model\n",
    "del df[\"ZIP CODE\"] # The variable 2 not required for the model\n",
    "del df[\"SALE DATE\"] # We don't need it as we have created the year and month variables.\n",
    "df.drop([\"EASE-MENT\",\"APARTMENT NUMBER\"], axis=1, inplace=True) # Completely empty columns.\n",
    "\n",
    "df = df.dropna() \n",
    "df.drop_duplicates(keep = \"last\", inplace=True)"
   ]
  },
  {
   "cell_type": "code",
   "execution_count": 10,
   "metadata": {
    "tags": []
   },
   "outputs": [],
   "source": [
    "# Year cannot be 0.\n",
    "df = df[df['YEAR BUILT'] != 0]\n",
    "del df['YEAR BUILT']"
   ]
  },
  {
   "cell_type": "code",
   "execution_count": 11,
   "metadata": {
    "tags": []
   },
   "outputs": [],
   "source": [
    "# Square feet should not be 0.\n",
    "df = df[df[\"LAND SQUARE FEET\"] != 0]\n",
    "df = df[df[\"GROSS SQUARE FEET\"] != 0]"
   ]
  },
  {
   "cell_type": "code",
   "execution_count": 12,
   "metadata": {
    "tags": []
   },
   "outputs": [],
   "source": [
    "del df[\"LOT\"]"
   ]
  },
  {
   "cell_type": "code",
   "execution_count": 13,
   "metadata": {},
   "outputs": [],
   "source": [
    "del df[\"Unnamed: 0\"]"
   ]
  },
  {
   "cell_type": "code",
   "execution_count": 14,
   "metadata": {
    "tags": []
   },
   "outputs": [],
   "source": [
    "# Deleting of unnecessary categorical variables for the model\n",
    "\n",
    "del df[\"NEIGHBORHOOD\"]\n",
    "del df['BUILDING CLASS AT TIME OF SALE']\n",
    "del df['TAX CLASS AT PRESENT']"
   ]
  },
  {
   "cell_type": "code",
   "execution_count": 15,
   "metadata": {
    "tags": []
   },
   "outputs": [],
   "source": [
    "# Drop the highly correlated ones to avoid multi collienearity\n",
    "del df['RESIDENTIAL UNITS']\n",
    "del df['TOTAL UNITS']\n",
    "del df[\"BUILDING CLASS AT PRESENT\"]"
   ]
  },
  {
   "cell_type": "markdown",
   "metadata": {},
   "source": [
    "#### Handling categorical variables"
   ]
  },
  {
   "cell_type": "code",
   "execution_count": 16,
   "metadata": {
    "tags": []
   },
   "outputs": [],
   "source": [
    "# Get dummies of cat variables.\n",
    "borough_dummies = pd.get_dummies(df['BOROUGH']).rename(columns=lambda x: 'BOROUGH_' + str(x))\n",
    "tax_class_dummies = pd.get_dummies(df['TAX CLASS AT TIME OF SALE']).rename(columns=lambda x: 'TAX CLASS AT TIME OF SALE_' + str(x))\n",
    "build_class = pd.get_dummies(df['BUILDING CLASS CATEGORY']).rename(columns=lambda x: 'BUILDING CLASS CATEGORY_' + str(x))\n",
    "\n",
    "# Concat them.\n",
    "df = pd.concat([df, borough_dummies,tax_class_dummies, build_class], axis=1)\n",
    "\n",
    "# Delete categorical columns after encoding.\n",
    "df = df.drop(['BOROUGH','TAX CLASS AT TIME OF SALE','BUILDING CLASS CATEGORY'],axis=1)"
   ]
  },
  {
   "cell_type": "markdown",
   "metadata": {},
   "source": [
    "#### Train test split"
   ]
  },
  {
   "cell_type": "code",
   "execution_count": 17,
   "metadata": {
    "tags": []
   },
   "outputs": [],
   "source": [
    "X = df.drop([\"SALE PRICE\"],axis = 1).astype(int)\n",
    "y = df[\"SALE PRICE\"].astype(int)\n",
    "X_train, X_test, y_train, y_test = train_test_split(X, y, test_size=0.2, random_state = 42, shuffle= True)"
   ]
  },
  {
   "cell_type": "markdown",
   "metadata": {},
   "source": [
    "#### Apply standart scaler"
   ]
  },
  {
   "cell_type": "code",
   "execution_count": 18,
   "metadata": {},
   "outputs": [],
   "source": [
    "from sklearn.preprocessing import MinMaxScaler\n",
    "\n",
    "numeric_cols =  ['COMMERCIAL UNITS',\n",
    "       'LAND SQUARE FEET', 'GROSS SQUARE FEET']\n",
    "\n",
    "        \n",
    "scaler = MinMaxScaler()\n",
    "# scaler = StandardScaler()\n",
    "X_train[numeric_cols] = scaler.fit_transform(X_train[numeric_cols])\n",
    "X_test[numeric_cols]= scaler.transform(X_test[numeric_cols])"
   ]
  },
  {
   "cell_type": "code",
   "execution_count": 19,
   "metadata": {},
   "outputs": [
    {
     "data": {
      "text/html": [
       "<div>\n",
       "<style scoped>\n",
       "    .dataframe tbody tr th:only-of-type {\n",
       "        vertical-align: middle;\n",
       "    }\n",
       "\n",
       "    .dataframe tbody tr th {\n",
       "        vertical-align: top;\n",
       "    }\n",
       "\n",
       "    .dataframe thead th {\n",
       "        text-align: right;\n",
       "    }\n",
       "</style>\n",
       "<table border=\"1\" class=\"dataframe\">\n",
       "  <thead>\n",
       "    <tr style=\"text-align: right;\">\n",
       "      <th></th>\n",
       "      <th>BLOCK</th>\n",
       "      <th>COMMERCIAL UNITS</th>\n",
       "      <th>LAND SQUARE FEET</th>\n",
       "      <th>GROSS SQUARE FEET</th>\n",
       "      <th>BOROUGH_1</th>\n",
       "      <th>BOROUGH_2</th>\n",
       "      <th>BOROUGH_3</th>\n",
       "      <th>BOROUGH_4</th>\n",
       "      <th>BOROUGH_5</th>\n",
       "      <th>TAX CLASS AT TIME OF SALE_1</th>\n",
       "      <th>...</th>\n",
       "      <th>BUILDING CLASS CATEGORY_37 RELIGIOUS FACILITIES</th>\n",
       "      <th>BUILDING CLASS CATEGORY_38 ASYLUMS AND HOMES</th>\n",
       "      <th>BUILDING CLASS CATEGORY_40 SELECTED GOVERNMENTAL FACILITIES</th>\n",
       "      <th>BUILDING CLASS CATEGORY_41 TAX CLASS 4 - OTHER</th>\n",
       "      <th>BUILDING CLASS CATEGORY_42 CONDO CULTURAL/MEDICAL/EDUCATIONAL/ETC</th>\n",
       "      <th>BUILDING CLASS CATEGORY_43 CONDO OFFICE BUILDINGS</th>\n",
       "      <th>BUILDING CLASS CATEGORY_44 CONDO PARKING</th>\n",
       "      <th>BUILDING CLASS CATEGORY_45 CONDO HOTELS</th>\n",
       "      <th>BUILDING CLASS CATEGORY_46 CONDO STORE BUILDINGS</th>\n",
       "      <th>BUILDING CLASS CATEGORY_47 CONDO NON-BUSINESS STORAGE</th>\n",
       "    </tr>\n",
       "  </thead>\n",
       "  <tbody>\n",
       "    <tr>\n",
       "      <th>58373</th>\n",
       "      <td>5066</td>\n",
       "      <td>0.0</td>\n",
       "      <td>0.000618</td>\n",
       "      <td>0.000422</td>\n",
       "      <td>0</td>\n",
       "      <td>0</td>\n",
       "      <td>0</td>\n",
       "      <td>1</td>\n",
       "      <td>0</td>\n",
       "      <td>0</td>\n",
       "      <td>...</td>\n",
       "      <td>0</td>\n",
       "      <td>0</td>\n",
       "      <td>0</td>\n",
       "      <td>0</td>\n",
       "      <td>0</td>\n",
       "      <td>0</td>\n",
       "      <td>0</td>\n",
       "      <td>0</td>\n",
       "      <td>0</td>\n",
       "      <td>0</td>\n",
       "    </tr>\n",
       "    <tr>\n",
       "      <th>77805</th>\n",
       "      <td>5645</td>\n",
       "      <td>0.0</td>\n",
       "      <td>0.000300</td>\n",
       "      <td>0.000340</td>\n",
       "      <td>0</td>\n",
       "      <td>0</td>\n",
       "      <td>0</td>\n",
       "      <td>0</td>\n",
       "      <td>1</td>\n",
       "      <td>1</td>\n",
       "      <td>...</td>\n",
       "      <td>0</td>\n",
       "      <td>0</td>\n",
       "      <td>0</td>\n",
       "      <td>0</td>\n",
       "      <td>0</td>\n",
       "      <td>0</td>\n",
       "      <td>0</td>\n",
       "      <td>0</td>\n",
       "      <td>0</td>\n",
       "      <td>0</td>\n",
       "    </tr>\n",
       "    <tr>\n",
       "      <th>311</th>\n",
       "      <td>771</td>\n",
       "      <td>0.0</td>\n",
       "      <td>0.000552</td>\n",
       "      <td>0.002230</td>\n",
       "      <td>1</td>\n",
       "      <td>0</td>\n",
       "      <td>0</td>\n",
       "      <td>0</td>\n",
       "      <td>0</td>\n",
       "      <td>0</td>\n",
       "      <td>...</td>\n",
       "      <td>0</td>\n",
       "      <td>0</td>\n",
       "      <td>0</td>\n",
       "      <td>0</td>\n",
       "      <td>0</td>\n",
       "      <td>0</td>\n",
       "      <td>0</td>\n",
       "      <td>0</td>\n",
       "      <td>0</td>\n",
       "      <td>0</td>\n",
       "    </tr>\n",
       "    <tr>\n",
       "      <th>58521</th>\n",
       "      <td>5066</td>\n",
       "      <td>0.0</td>\n",
       "      <td>0.000618</td>\n",
       "      <td>0.000422</td>\n",
       "      <td>0</td>\n",
       "      <td>0</td>\n",
       "      <td>0</td>\n",
       "      <td>1</td>\n",
       "      <td>0</td>\n",
       "      <td>0</td>\n",
       "      <td>...</td>\n",
       "      <td>0</td>\n",
       "      <td>0</td>\n",
       "      <td>0</td>\n",
       "      <td>0</td>\n",
       "      <td>0</td>\n",
       "      <td>0</td>\n",
       "      <td>0</td>\n",
       "      <td>0</td>\n",
       "      <td>0</td>\n",
       "      <td>0</td>\n",
       "    </tr>\n",
       "    <tr>\n",
       "      <th>64947</th>\n",
       "      <td>9951</td>\n",
       "      <td>0.0</td>\n",
       "      <td>0.001152</td>\n",
       "      <td>0.000344</td>\n",
       "      <td>0</td>\n",
       "      <td>0</td>\n",
       "      <td>0</td>\n",
       "      <td>1</td>\n",
       "      <td>0</td>\n",
       "      <td>1</td>\n",
       "      <td>...</td>\n",
       "      <td>0</td>\n",
       "      <td>0</td>\n",
       "      <td>0</td>\n",
       "      <td>0</td>\n",
       "      <td>0</td>\n",
       "      <td>0</td>\n",
       "      <td>0</td>\n",
       "      <td>0</td>\n",
       "      <td>0</td>\n",
       "      <td>0</td>\n",
       "    </tr>\n",
       "  </tbody>\n",
       "</table>\n",
       "<p>5 rows × 55 columns</p>\n",
       "</div>"
      ],
      "text/plain": [
       "       BLOCK  COMMERCIAL UNITS  LAND SQUARE FEET  GROSS SQUARE FEET  \\\n",
       "58373   5066               0.0          0.000618           0.000422   \n",
       "77805   5645               0.0          0.000300           0.000340   \n",
       "311      771               0.0          0.000552           0.002230   \n",
       "58521   5066               0.0          0.000618           0.000422   \n",
       "64947   9951               0.0          0.001152           0.000344   \n",
       "\n",
       "       BOROUGH_1  BOROUGH_2  BOROUGH_3  BOROUGH_4  BOROUGH_5  \\\n",
       "58373          0          0          0          1          0   \n",
       "77805          0          0          0          0          1   \n",
       "311            1          0          0          0          0   \n",
       "58521          0          0          0          1          0   \n",
       "64947          0          0          0          1          0   \n",
       "\n",
       "       TAX CLASS AT TIME OF SALE_1  ...  \\\n",
       "58373                            0  ...   \n",
       "77805                            1  ...   \n",
       "311                              0  ...   \n",
       "58521                            0  ...   \n",
       "64947                            1  ...   \n",
       "\n",
       "       BUILDING CLASS CATEGORY_37 RELIGIOUS FACILITIES                      \\\n",
       "58373                                                  0                     \n",
       "77805                                                  0                     \n",
       "311                                                    0                     \n",
       "58521                                                  0                     \n",
       "64947                                                  0                     \n",
       "\n",
       "       BUILDING CLASS CATEGORY_38 ASYLUMS AND HOMES                         \\\n",
       "58373                                                  0                     \n",
       "77805                                                  0                     \n",
       "311                                                    0                     \n",
       "58521                                                  0                     \n",
       "64947                                                  0                     \n",
       "\n",
       "       BUILDING CLASS CATEGORY_40 SELECTED GOVERNMENTAL FACILITIES          \\\n",
       "58373                                                  0                     \n",
       "77805                                                  0                     \n",
       "311                                                    0                     \n",
       "58521                                                  0                     \n",
       "64947                                                  0                     \n",
       "\n",
       "       BUILDING CLASS CATEGORY_41 TAX CLASS 4 - OTHER                       \\\n",
       "58373                                                  0                     \n",
       "77805                                                  0                     \n",
       "311                                                    0                     \n",
       "58521                                                  0                     \n",
       "64947                                                  0                     \n",
       "\n",
       "       BUILDING CLASS CATEGORY_42 CONDO CULTURAL/MEDICAL/EDUCATIONAL/ETC    \\\n",
       "58373                                                  0                     \n",
       "77805                                                  0                     \n",
       "311                                                    0                     \n",
       "58521                                                  0                     \n",
       "64947                                                  0                     \n",
       "\n",
       "       BUILDING CLASS CATEGORY_43 CONDO OFFICE BUILDINGS                    \\\n",
       "58373                                                  0                     \n",
       "77805                                                  0                     \n",
       "311                                                    0                     \n",
       "58521                                                  0                     \n",
       "64947                                                  0                     \n",
       "\n",
       "       BUILDING CLASS CATEGORY_44 CONDO PARKING                             \\\n",
       "58373                                                  0                     \n",
       "77805                                                  0                     \n",
       "311                                                    0                     \n",
       "58521                                                  0                     \n",
       "64947                                                  0                     \n",
       "\n",
       "       BUILDING CLASS CATEGORY_45 CONDO HOTELS                              \\\n",
       "58373                                                  0                     \n",
       "77805                                                  0                     \n",
       "311                                                    0                     \n",
       "58521                                                  0                     \n",
       "64947                                                  0                     \n",
       "\n",
       "       BUILDING CLASS CATEGORY_46 CONDO STORE BUILDINGS                     \\\n",
       "58373                                                  0                     \n",
       "77805                                                  0                     \n",
       "311                                                    0                     \n",
       "58521                                                  0                     \n",
       "64947                                                  0                     \n",
       "\n",
       "       BUILDING CLASS CATEGORY_47 CONDO NON-BUSINESS STORAGE                \n",
       "58373                                                  0                    \n",
       "77805                                                  0                    \n",
       "311                                                    0                    \n",
       "58521                                                  0                    \n",
       "64947                                                  0                    \n",
       "\n",
       "[5 rows x 55 columns]"
      ]
     },
     "execution_count": 19,
     "metadata": {},
     "output_type": "execute_result"
    }
   ],
   "source": [
    "X_train.head()"
   ]
  },
  {
   "cell_type": "markdown",
   "metadata": {
    "tags": []
   },
   "source": [
    "### Modelling\n",
    "\n",
    "I think a tree-based regressor would work, as we have plenty of categorical variables.\n",
    "\n",
    "I will try;\n",
    "\n",
    "    - Random Forest as a base model\n",
    "    - Gradient Boosting\n",
    "    - XGB"
   ]
  },
  {
   "cell_type": "markdown",
   "metadata": {},
   "source": [
    "#### Base Model"
   ]
  },
  {
   "cell_type": "code",
   "execution_count": 21,
   "metadata": {},
   "outputs": [
    {
     "name": "stdout",
     "output_type": "stream",
     "text": [
      "Train score of Gradient Boosting model:  0.9417675133309573\n",
      "Test score of Gradient Boosting model:  0.35127297775101063\n",
      "RMSE: 8129209.8015668895\n"
     ]
    }
   ],
   "source": [
    "gb = GradientBoostingRegressor(random_state = 42)\n",
    "gb.fit(X_train,y_train)\n",
    "y_pred = gb.predict(X_test)\n",
    "\n",
    "print(\"Train score of Gradient Boosting model: \",gb.score(X_train,y_train))\n",
    "print(\"Test score of Gradient Boosting model: \",gb.score(X_test,y_test))\n",
    "print('RMSE:',np.sqrt(mean_squared_error(y_test,y_pred)))"
   ]
  },
  {
   "cell_type": "code",
   "execution_count": 22,
   "metadata": {},
   "outputs": [
    {
     "name": "stdout",
     "output_type": "stream",
     "text": [
      "Train score of XGB model:  0.9798402463371613\n",
      "Test score of XGB model:  0.242677301695589\n",
      "RMSE: 8783302.184452822\n"
     ]
    }
   ],
   "source": [
    "xg = xg.XGBRegressor(random_state = 42)\n",
    "xg.fit(X_train,y_train)\n",
    "y_pred = xg.predict(X_test)\n",
    "\n",
    "print(\"Train score of XGB model: \",xg.score(X_train,y_train))\n",
    "print(\"Test score of XGB model: \",xg.score(X_test,y_test))\n",
    "print('RMSE:',np.sqrt(mean_squared_error(y_test,y_pred)))"
   ]
  },
  {
   "cell_type": "code",
   "execution_count": 28,
   "metadata": {},
   "outputs": [
    {
     "name": "stdout",
     "output_type": "stream",
     "text": [
      "Train score of base model:  0.8540610659528791\n",
      "Test score of base model:  0.47562572092820143\n",
      "RMSE: 7308664.535379451\n"
     ]
    }
   ],
   "source": [
    "rf = RandomForestRegressor(random_state = 42)\n",
    "rf.fit(X_train,y_train)\n",
    "y_pred = rf.predict(X_test)\n",
    "\n",
    "print(\"Train score of base model: \",rf.score(X_train,y_train))\n",
    "print(\"Test score of base model: \",rf.score(X_test,y_test))\n",
    "print('RMSE:',np.sqrt(mean_squared_error(y_test,y_pred)))"
   ]
  },
  {
   "cell_type": "markdown",
   "metadata": {},
   "source": [
    "RMSE tells us explicitly how much our predictions deviate, on average, from the actual values in the dataset. In this case, the predicted values are $7,591,329 away from the actual value.\n",
    "\n",
    "Looks like we ran into it with overfitting. While r2 is 0.85 in the train set, it is 0.47 in the test set.\n",
    "\n",
    "\n",
    "As can be seen, as the model complexity increases, the overfitting also increases. Therefore, I will continue with the random forest.\n",
    "\n",
    "\n",
    "There are some suggestions that can be made in the random forest to overcome this:\n",
    "- max_features: try reducing this number (try 30-50% of the number of features)\n",
    "- max_depth: This will reduce the complexity of the learned models, lowering over fitting risk\n",
    "\n",
    "ref: https://stats.stackexchange.com/questions/111968/random-forest-how-to-handle-overfitting & https://stackoverflow.com/questions/20463281/how-do-i-solve-overfitting-in-random-forest-of-python-sklearn\n",
    "\n",
    "I'll use grid search to try these out."
   ]
  },
  {
   "cell_type": "markdown",
   "metadata": {},
   "source": [
    "#### Optimized Random Forest"
   ]
  },
  {
   "cell_type": "code",
   "execution_count": 23,
   "metadata": {
    "tags": []
   },
   "outputs": [
    {
     "data": {
      "text/plain": [
       "RandomForestRegressor(ccp_alpha=0, max_depth=15, max_features=6,\n",
       "                      n_estimators=300, random_state=42)"
      ]
     },
     "execution_count": 23,
     "metadata": {},
     "output_type": "execute_result"
    }
   ],
   "source": [
    "param_grid = {\n",
    "    \"n_estimators\":[100,200,300],\n",
    "    \"max_depth\":[5, 10, 15],\n",
    "    \"max_features\":[6,16,30,45],\n",
    "    \"ccp_alpha\": [0,1]  # Minimal Cost-Complexity Pruning to avoid overfitting\n",
    "}\n",
    "\n",
    "rf = RandomForestRegressor(random_state = 42)\n",
    "\n",
    "rf_tuned = GridSearchCV(estimator = rf,\n",
    "                            param_grid = param_grid,\n",
    "                            cv = 5,\n",
    "                            n_jobs=-1,\n",
    "                        verbose=0)\n",
    "\n",
    "rf_tuned.fit(X_train, y_train)\n",
    "rf_tuned.best_estimator_"
   ]
  },
  {
   "cell_type": "code",
   "execution_count": 24,
   "metadata": {
    "tags": []
   },
   "outputs": [],
   "source": [
    "best_model = rf_tuned.best_estimator_.fit(X_train,y_train) # Grid Search result"
   ]
  },
  {
   "cell_type": "code",
   "execution_count": 25,
   "metadata": {},
   "outputs": [
    {
     "name": "stdout",
     "output_type": "stream",
     "text": [
      "Train score of optimized model:  0.8934056181778522\n",
      "Test score of optimized model:  0.5316075292325788\n"
     ]
    }
   ],
   "source": [
    "print(\"Train score of optimized model: \",best_model.score(X_train,y_train))\n",
    "print(\"Test score of optimized model: \",best_model.score(X_test,y_test))"
   ]
  },
  {
   "cell_type": "markdown",
   "metadata": {},
   "source": [
    "### Error Analysis\n",
    "\n",
    "Optimizing improved the estimates by 1 percent, but there is still overfitting. To understand this, it is necessary to examine in more detail the features we give to the model.\n",
    "\n",
    "First, I will use the game theory-based model explicability library SHAP. It will help us understand the contribution of these features to the model and why the model decides on that output.\n",
    "Doc: https://shap.readthedocs.io/en/latest/index.html"
   ]
  },
  {
   "cell_type": "raw",
   "metadata": {
    "jupyter": {
     "outputs_hidden": true
    },
    "tags": []
   },
   "source": [
    "# load JS visualization code to notebook\n",
    "shap.initjs()\n",
    "\n",
    "explainer = shap.TreeExplainer(rf)\n",
    "shap_values = explainer.shap_values(X_test)"
   ]
  },
  {
   "cell_type": "raw",
   "metadata": {},
   "source": [
    "# It will explain 4th observation in detail\n",
    "i = 4\n",
    "shap.force_plot(explainer.expected_value, shap_values[i], features=X.iloc[i], feature_names=X.columns)"
   ]
  },
  {
   "cell_type": "raw",
   "metadata": {},
   "source": [
    "# Distribution of the impacts each feature has on the model output.\n",
    "# red high, blue low impact\n",
    "shap.summary_plot(shap_values, features=X_test, feature_names=X.columns)"
   ]
  },
  {
   "cell_type": "raw",
   "metadata": {},
   "source": [
    "# Shows mean absolute impact of features as bar.\n",
    "shap.summary_plot(shap_values, features=X_train, feature_names=X.columns, plot_type=\"bar\")"
   ]
  },
  {
   "cell_type": "markdown",
   "metadata": {},
   "source": [
    "Since the runtime is long, I will look at the importance with RF feature_importances_."
   ]
  },
  {
   "cell_type": "code",
   "execution_count": 29,
   "metadata": {},
   "outputs": [
    {
     "data": {
      "image/png": "[encoded data removed]",
      "text/plain": [
       "<Figure size 1080x720 with 1 Axes>"
      ]
     },
     "metadata": {
      "needs_background": "light"
     },
     "output_type": "display_data"
    }
   ],
   "source": [
    "feat_imp = rf.feature_importances_.tolist()\n",
    "imp_df = pd.DataFrame(sorted(zip(df.columns,feat_imp),reverse=True),\n",
    "                          columns=[\"feature\",\"importance\"]).sort_values(\"importance\",ascending = False)\n",
    "\n",
    "plt.figure(figsize=(15,10))\n",
    "sns.barplot(x=\"importance\",\n",
    "            y=\"feature\",\n",
    "            data=imp_df[:10]).set_title(\"TOP 10 Important Feature\")\n",
    "plt.show()"
   ]
  },
  {
   "cell_type": "markdown",
   "metadata": {},
   "source": [
    "### Conclusion:\n",
    "\n",
    "- Since we don't have linear and time series data and we need a categorical regressor, I used tree-based methods.\n",
    "\n",
    "- Random Forest Regressor with the best results. However, there is still an overfitting problem. To avoid this, we can use one of the methods of punishment or feature selection.\n",
    "\n",
    "- The GROSS SQUARE FEET, BLOCK, LAND SQUARE FEET variables were the variables that affected the model the most.\n",
    "\n",
    "- Columns with numerical information (Inflation, exchange rates, etc.) that can be correlated with sale price can be found and added to the model, and a model with lower complexity can be established. \n"
   ]
  }
 ],
 "metadata": {
  "kernelspec": {
   "display_name": "Python 3 (ipykernel)",
   "language": "python",
   "name": "python3"
  },
  "language_info": {
   "codemirror_mode": {
    "name": "ipython",
    "version": 3
   },
   "file_extension": ".py",
   "mimetype": "text/x-python",
   "name": "python",
   "nbconvert_exporter": "python",
   "pygments_lexer": "ipython3",
   "version": "3.8.13"
  }
 },
 "nbformat": 4,
 "nbformat_minor": 4
}
